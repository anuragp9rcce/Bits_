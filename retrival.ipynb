{
 "cells": [
  {
   "cell_type": "code",
   "execution_count": null,
   "metadata": {
    "colab": {
     "base_uri": "https://localhost:8080/"
    },
    "executionInfo": {
     "elapsed": 5787,
     "status": "ok",
     "timestamp": 1737199666750,
     "user": {
      "displayName": "PETKAR ANURAG KISHOR",
      "userId": "09737349906315307369"
     },
     "user_tz": -330
    },
    "id": "FjtNyPbUsZfN",
    "outputId": "347ea21e-1132-4cc3-c3ed-b4274acebfb2"
   },
   "outputs": [
    {
     "name": "stdout",
     "output_type": "stream",
     "text": [
      "Requirement already satisfied: faiss-cpu in /usr/local/lib/python3.11/dist-packages (1.9.0.post1)\n",
      "Requirement already satisfied: numpy<3.0,>=1.25.0 in /usr/local/lib/python3.11/dist-packages (from faiss-cpu) (1.26.4)\n",
      "Requirement already satisfied: packaging in /usr/local/lib/python3.11/dist-packages (from faiss-cpu) (24.2)\n"
     ]
    }
   ],
   "source": [
    "!pip install faiss-cpu # Install faiss library"
   ]
  },
  {
   "cell_type": "code",
   "execution_count": null,
   "metadata": {
    "colab": {
     "base_uri": "https://localhost:8080/"
    },
    "executionInfo": {
     "elapsed": 475,
     "status": "ok",
     "timestamp": 1737204323664,
     "user": {
      "displayName": "PETKAR ANURAG KISHOR",
      "userId": "09737349906315307369"
     },
     "user_tz": -330
    },
    "id": "YhKw93Knq8mG",
    "outputId": "ed26b8c1-badc-40da-d550-2f3fff6f114a"
   },
   "outputs": [
    {
     "name": "stdout",
     "output_type": "stream",
     "text": [
      "{'table_descriptions': [{'table_name': 'actor', 'description': \"The 'actor' table contains information about actors, including their unique actor IDs (aid), gender, name, nationality, city of birth, and year of birth. This table can be used to query demographic information about actors, group data by various attributes, and perform analytical operations such as ranking or comparisons.\", 'columns': [{'name': 'actor.aid', 'description': 'A unique identifier for each actor. This field serves as the primary key of the table.'}, {'name': 'actor.gender', 'description': 'The gender of the actor, represented as a text field.'}, {'name': 'actor.name', 'description': 'The name of the actor, stored as text. This is the name by which the actor is known.'}, {'name': 'actor.nationality', 'description': 'The nationality of the actor, represented as text. This indicates the country the actor is associated with.'}, {'name': 'actor.birth_city', 'description': 'The city where the actor was born, stored as text.'}, {'name': 'actor.birth_year', 'description': \"The year the actor was born, stored as an integer. This helps in determining the actor's age or generation.\"}], 'queries': [{'question': 'What is the name of the actor with ID 1?', 'query': 'SELECT name FROM actor WHERE aid = 1;'}, {'question': 'List all male actors.', 'query': \"SELECT name FROM actor WHERE gender = 'male';\"}, {'question': 'Who are the youngest actors in each nationality group?', 'query': 'WITH actor_age AS (SELECT name, nationality, birth_year, ROW_NUMBER() OVER (PARTITION BY nationality ORDER BY birth_year DESC) AS rank FROM actor) SELECT name, nationality, birth_year FROM actor_age WHERE rank = 1;'}, {'question': \"What is the average birth year of actors grouped by nationality, and how does each actor's birth year compare to their national average?\", 'query': 'WITH avg_birth_year AS (SELECT nationality, AVG(birth_year) AS avg_year FROM actor GROUP BY nationality) SELECT a.name, a.nationality, a.birth_year, ab.avg_year, a.birth_year - ab.avg_year AS difference FROM actor a JOIN avg_birth_year ab ON a.nationality = ab.nationality;'}, {'question': 'What are the top 3 most recent actors (by birth year) in each city of birth?', 'query': 'WITH ranked_actors AS (SELECT name, birth_city, birth_year, ROW_NUMBER() OVER (PARTITION BY birth_city ORDER BY birth_year DESC) AS rank FROM actor) SELECT name, birth_city, birth_year FROM ranked_actors WHERE rank <= 3;'}, {'question': \"Which actors were born before 1980 and have 'American' nationality?\", 'query': \"SELECT name, birth_year FROM actor WHERE nationality = 'American' AND birth_year < 1980;\"}, {'question': 'List all actors born after 1990, ordered by birth year in descending order.', 'query': 'SELECT name, birth_year FROM actor WHERE birth_year > 1990 ORDER BY birth_year DESC;'}, {'question': 'Which nationality has the most actors with the same name?', 'query': 'SELECT name, nationality, COUNT(*) AS name_count FROM actor GROUP BY name, nationality ORDER BY name_count DESC LIMIT 1;'}]}, {'table_name': 'cast', 'description': \"The 'cast' table contains information about actors in movies or other productions. It tracks details such as the actor's unique ID (aid), their role in the production (role), and links to other tables through 'msid' and 'aid'. This table is useful for querying actor details, their roles in productions, and for analysis of cast membership across various productions.\", 'columns': [{'name': 'cast.id', 'description': 'A unique identifier for each entry in the cast table. This field serves as the primary key.'}, {'name': 'cast.msid', 'description': 'A unique identifier for the production (movie, show, etc.) that the actor is associated with. It serves as a foreign key linking to other related tables.'}, {'name': 'cast.aid', 'description': 'A unique identifier for the actor. This serves as a foreign key linking to an actor table containing detailed information about the actor.'}, {'name': 'cast.role', 'description': 'The role that the actor plays in the associated production, represented as a text field.'}], 'queries': [{'question': 'What is the role of the actor with ID 1 in production with ID 100?', 'query': 'SELECT role FROM cast WHERE aid = 1 AND msid = 100;'}, {'question': \"List all actors who played the role 'hero'.\", 'query': \"SELECT aid FROM cast WHERE role = 'hero';\"}, {'question': \"Which production has the most actors playing the role 'villain'?\", 'query': \"WITH villain_actors AS (SELECT msid, COUNT(*) AS actor_count FROM cast WHERE role = 'villain' GROUP BY msid) SELECT msid FROM villain_actors WHERE actor_count = (SELECT MAX(actor_count) FROM villain_actors);\"}, {'question': 'For each production, list the actor IDs and their corresponding roles, ordered by the number of actors per production.', 'query': 'WITH production_roles AS (SELECT msid, role, COUNT(*) OVER (PARTITION BY msid) AS actor_count FROM cast) SELECT msid, role, actor_count FROM production_roles ORDER BY actor_count DESC;'}, {'question': 'Which actors have appeared in more than one production, and what are their roles in each production?', 'query': 'WITH actor_productions AS (SELECT aid, msid, role FROM cast GROUP BY aid, msid, role HAVING COUNT(msid) > 1) SELECT aid, msid, role FROM actor_productions;'}]}, {'table_name': 'classification', 'description': \"The 'classification' table contains information about classifications for various items. It tracks details like the classification ID (id), the associated production (msid), and the group ID (gid). This table can be used for querying and analyzing the classification of productions or other entities based on group membership.\", 'columns': [{'name': 'classification.id', 'description': 'A unique identifier for each classification entry. This field serves as the primary key.'}, {'name': 'classification.msid', 'description': 'A unique identifier for the production or item being classified. It serves as a foreign key linking to other related tables.'}, {'name': 'classification.gid', 'description': 'A unique identifier for the group to which the production is classified. This field helps in grouping items based on classification categories.'}], 'queries': [{'question': 'What is the group ID for production with ID 100?', 'query': 'SELECT gid FROM classification WHERE msid = 100;'}, {'question': 'List all productions that belong to group ID 10.', 'query': 'SELECT msid FROM classification WHERE gid = 10;'}, {'question': 'Which group has the most productions classified under it?', 'query': 'WITH group_count AS (SELECT gid, COUNT(*) AS production_count FROM classification GROUP BY gid) SELECT gid FROM group_count WHERE production_count = (SELECT MAX(production_count) FROM group_count);'}, {'question': 'For each group, list the number of productions classified under it and rank them by the number of productions.', 'query': 'WITH group_ranked AS (SELECT gid, COUNT(*) AS production_count, RANK() OVER (ORDER BY COUNT(*) DESC) AS rank FROM classification GROUP BY gid) SELECT gid, production_count, rank FROM group_ranked;'}, {'question': 'Which group has the least number of productions and what are their production IDs?', 'query': 'WITH group_count AS (SELECT gid, COUNT(*) AS production_count FROM classification GROUP BY gid) SELECT msid FROM classification WHERE gid = (SELECT gid FROM group_count WHERE production_count = (SELECT MIN(production_count) FROM group_count));'}]}, {'table_name': 'company', 'description': \"The 'company' table contains information about companies, including their unique company IDs (id), name, and country code. The table can be used to query company information, such as finding companies by name or filtering by country code.\", 'columns': [{'name': 'company.id', 'description': 'A unique identifier for each company. This field serves as the primary key of the table.'}, {'name': 'company.name', 'description': 'The name of the company, stored as text. This represents the official name of the company.'}, {'name': 'company.country_code', 'description': 'The country code for the company, stored as a varchar. It represents the country in which the company is located.'}], 'queries': [{'question': 'What is the name of the company with ID 1?', 'query': 'SELECT name FROM company WHERE id = 1;'}, {'question': 'List all companies based in the United States.', 'query': \"SELECT name FROM company WHERE country_code = 'US';\"}, {'question': 'What is the count of companies grouped by country code?', 'query': 'SELECT country_code, COUNT(*) AS company_count FROM company GROUP BY country_code;'}, {'question': 'What is the company with the highest ID in each country?', 'query': 'WITH company_ranking AS (SELECT name, country_code, id, ROW_NUMBER() OVER (PARTITION BY country_code ORDER BY id DESC) AS rank FROM company) SELECT name, country_code, id FROM company_ranking WHERE rank = 1;'}, {'question': 'Which company has the highest ID overall?', 'query': 'SELECT name, country_code, id FROM company ORDER BY id DESC LIMIT 1;'}, {'question': 'How many companies are there in each country code, sorted by country code?', 'query': 'SELECT country_code, COUNT(*) AS company_count FROM company GROUP BY country_code ORDER BY country_code;'}]}, {'table_name': 'copyright', 'description': \"The 'copyright' table contains information about copyrights, including unique copyright IDs (id), media set IDs (msid), and company IDs (cid) associated with the copyright. This table can be used to track the relationship between media sets and companies for copyright purposes.\", 'columns': [{'name': 'copyright.id', 'description': 'A unique identifier for each copyright. This field serves as the primary key of the table.'}, {'name': 'copyright.msid', 'description': 'The media set ID, which identifies the set of media that the copyright is associated with.'}, {'name': 'copyright.cid', 'description': 'The company ID, which links the copyright to a specific company.'}], 'queries': [{'question': 'What is the msid of the copyright with ID 1?', 'query': 'SELECT msid FROM copyright WHERE id = 1;'}, {'question': 'List all copyright entries linked to company ID 5.', 'query': 'SELECT id, msid FROM copyright WHERE cid = 5;'}, {'question': 'Count the number of copyrights for each company.', 'query': 'SELECT cid, COUNT(*) AS copyright_count FROM copyright GROUP BY cid;'}, {'question': 'Which company holds the most copyrights?', 'query': 'WITH company_copyrights AS (SELECT cid, COUNT(*) AS copyright_count FROM copyright GROUP BY cid) SELECT cid, copyright_count FROM company_copyrights ORDER BY copyright_count DESC LIMIT 1;'}, {'question': 'What is the latest copyright entry for each media set?', 'query': 'WITH ranked_copyrights AS (SELECT msid, id, ROW_NUMBER() OVER (PARTITION BY msid ORDER BY id DESC) AS rank FROM copyright) SELECT msid, id FROM ranked_copyrights WHERE rank = 1;'}, {'question': 'How many copyrights are there for media set ID 3?', 'query': 'SELECT COUNT(*) FROM copyright WHERE msid = 3;'}]}, {'table_name': 'directed_by', 'description': \"The 'directed_by' table contains information about the directors of media, including unique directed-by IDs (id), media set IDs (msid), and director IDs (did). This table is used to track the relationship between directors and the media they are associated with.\", 'columns': [{'name': 'directed_by.id', 'description': 'A unique identifier for each entry in the directed_by table. This field serves as the primary key.'}, {'name': 'directed_by.msid', 'description': 'The media set ID, representing the media that the director is associated with.'}, {'name': 'directed_by.did', 'description': 'The director ID, which links the media to the director.'}], 'queries': [{'question': 'Who is the director of the media set with ID 1?', 'query': 'SELECT did FROM directed_by WHERE msid = 1;'}, {'question': 'List all media sets directed by director ID 3.', 'query': 'SELECT msid FROM directed_by WHERE did = 3;'}, {'question': 'How many media sets are directed by each director?', 'query': 'SELECT did, COUNT(*) AS media_count FROM directed_by GROUP BY did;'}, {'question': 'Which director has directed the most media sets?', 'query': 'WITH director_counts AS (SELECT did, COUNT(*) AS media_count FROM directed_by GROUP BY did) SELECT did, media_count FROM director_counts ORDER BY media_count DESC LIMIT 1;'}, {'question': 'Which director has directed the most recent media set?', 'query': 'WITH ranked_directors AS (SELECT did, msid, ROW_NUMBER() OVER (PARTITION BY did ORDER BY msid DESC) AS rank FROM directed_by) SELECT did, msid FROM ranked_directors WHERE rank = 1;'}, {'question': 'How many directors are associated with media set ID 4?', 'query': 'SELECT COUNT(*) FROM directed_by WHERE msid = 4;'}]}, {'table_name': 'director', 'description': \"The 'director' table stores information about directors, including their unique director ID (did), gender, name, nationality, city of birth, and year of birth. This table can be used to query demographic information about directors, analyze trends by nationality or city of birth, and explore the relationship between gender and birth year.\", 'columns': [{'name': 'director.did', 'description': 'A unique identifier for each director. This field serves as the primary key of the table.'}, {'name': 'director.gender', 'description': 'The gender of the director, stored as text. This field can be used to group and analyze data by gender.'}, {'name': 'director.name', 'description': 'The name of the director, stored as text. This is the name by which the director is known.'}, {'name': 'director.nationality', 'description': 'The nationality of the director, stored as text. This field helps in categorizing directors by their country of origin.'}, {'name': 'director.birth_city', 'description': 'The city where the director was born, stored as text.'}, {'name': 'director.birth_year', 'description': \"The year the director was born, stored as an integer. This helps in determining the director's age or generational trends.\"}], 'queries': [{'question': 'What is the name of the director with ID 1?', 'query': 'SELECT name FROM director WHERE did = 1;'}, {'question': 'List all female directors.', 'query': \"SELECT name FROM director WHERE gender = 'female';\"}, {'question': 'Which directors were born in the same city and have the same nationality?', 'query': 'WITH city_nationality AS (SELECT name, birth_city, nationality, COUNT(*) OVER (PARTITION BY birth_city, nationality) AS city_nationality_count FROM director) SELECT name, birth_city, nationality FROM city_nationality WHERE city_nationality_count > 1;'}, {'question': \"What is the average birth year of directors grouped by nationality, and how does each director's birth year compare to their national average?\", 'query': 'WITH avg_birth_year AS (SELECT nationality, AVG(birth_year) AS avg_year FROM director GROUP BY nationality) SELECT d.name, d.nationality, d.birth_year, ab.avg_year, d.birth_year - ab.avg_year AS difference FROM director d JOIN avg_birth_year ab ON d.nationality = ab.nationality;'}, {'question': \"Which directors from the 'United States' have the most similar birth years?\", 'query': \"WITH director_ranked AS (SELECT name, birth_year, ROW_NUMBER() OVER (PARTITION BY nationality ORDER BY ABS(birth_year - (SELECT AVG(birth_year) FROM director WHERE nationality = 'United States'))) AS rank FROM director WHERE nationality = 'United States') SELECT name, birth_year FROM director_ranked WHERE rank = 1;\"}, {'question': \"What is the distribution of directors' birth years by city?\", 'query': 'SELECT birth_city, COUNT(*) AS director_count FROM director GROUP BY birth_city ORDER BY director_count DESC;'}, {'question': \"List directors born after 1970 in 'Los Angeles', ordered by name.\", 'query': \"SELECT name, birth_year FROM director WHERE birth_city = 'Los Angeles' AND birth_year > 1970 ORDER BY name;\"}, {'question': 'Which nationality has the most directors born before 1950?', 'query': 'SELECT nationality, COUNT(*) AS director_count FROM director WHERE birth_year < 1950 GROUP BY nationality ORDER BY director_count DESC LIMIT 1;'}]}, {'table_name': 'genre', 'description': \"The 'genre' table contains information about film genres, including a unique genre ID (gid) and the name of the genre. This table can be used to query and analyze film genre distributions and identify patterns across films.\", 'columns': [{'name': 'genre.gid', 'description': 'A unique identifier for each genre. This field serves as the primary key of the table.'}, {'name': 'genre.genre', 'description': \"The name of the genre, stored as text. This field represents the genre to which a film belongs (e.g., 'Action', 'Drama').\"}], 'queries': [{'question': 'What is the name of the genre with ID 1?', 'query': 'SELECT genre FROM genre WHERE gid = 1;'}, {'question': 'List all genres.', 'query': 'SELECT genre FROM genre;'}, {'question': 'Which genres have more than 10 films associated with them?', 'query': 'WITH genre_count AS (SELECT genre, COUNT(*) AS film_count FROM films GROUP BY genre) SELECT genre FROM genre_count WHERE film_count > 10;'}, {'question': 'What are the top 3 most popular genres by film count?', 'query': 'WITH genre_popularity AS (SELECT genre, COUNT(*) AS film_count FROM films GROUP BY genre ORDER BY film_count DESC) SELECT genre FROM genre_popularity LIMIT 3;'}, {'question': 'How many genres have been used for films released after 2010?', 'query': 'SELECT COUNT(DISTINCT genre) FROM films WHERE release_year > 2010;'}]}, {'table_name': 'keyword', 'description': \"The 'keyword' table contains keywords associated with films, including a unique ID (id) and the keyword itself. Keywords help categorize films based on specific themes, locations, or other attributes.\", 'columns': [{'name': 'keyword.id', 'description': 'A unique identifier for each keyword. This field serves as the primary key of the table.'}, {'name': 'keyword.keyword', 'description': \"The keyword associated with a film, stored as text. This field represents a specific theme, location, or attribute of a film (e.g., 'Romance', 'New York').\"}], 'queries': [{'question': 'What is the keyword with ID 1?', 'query': 'SELECT keyword FROM keyword WHERE id = 1;'}, {'question': 'List all keywords.', 'query': 'SELECT keyword FROM keyword;'}, {'question': 'Which keywords are associated with more than 5 films?', 'query': 'WITH keyword_count AS (SELECT keyword, COUNT(*) AS film_count FROM films_keywords GROUP BY keyword) SELECT keyword FROM keyword_count WHERE film_count > 5;'}, {'question': \"What are the most frequent keywords used in films with the 'Action' genre?\", 'query': \"WITH genre_keywords AS (SELECT k.keyword FROM films_keywords fk JOIN keyword k ON fk.keyword_id = k.id JOIN genre g ON fk.film_id = g.film_id WHERE g.genre = 'Action') SELECT keyword, COUNT(*) AS frequency FROM genre_keywords GROUP BY keyword ORDER BY frequency DESC;\"}, {'question': \"How many films have been associated with the keyword 'Romance'?\", 'query': \"SELECT COUNT(*) FROM films_keywords fk JOIN keyword k ON fk.keyword_id = k.id WHERE k.keyword = 'Romance';\"}]}, {'table_name': 'made_by', 'description': \"The 'made_by' table stores information about entities involved in the production of a movie, including the movie's unique ID, the ID of the entity (e.g., a person or organization), and the relationship between them (represented by columns like 'pid' and 'msid'). It helps track the entities associated with a specific movie production, providing insights into the production team.\", 'columns': [{'name': 'made_by.id', 'description': 'A unique identifier for each movie production entry. This field serves as the primary key of the table.'}, {'name': 'made_by.msid', 'description': \"The ID of the entity (e.g., a person or organization) involved in the movie production. This field is a foreign key referring to the respective entity's table.\"}, {'name': 'made_by.pid', 'description': 'The ID of the production, which associates the entity with a specific production project.'}], 'queries': [{'question': 'List all entities involved in a production with a specific ID.', 'query': 'SELECT msid FROM made_by WHERE pid = 1;'}, {'question': 'Get the unique IDs of all movie productions.', 'query': 'SELECT DISTINCT pid FROM made_by;'}, {'question': 'Which entity has worked on the most productions?', 'query': 'SELECT msid, COUNT(DISTINCT pid) AS production_count FROM made_by GROUP BY msid ORDER BY production_count DESC LIMIT 1;'}, {'question': 'Find the productions where the same entity was involved in multiple roles.', 'query': 'WITH entity_roles AS (SELECT pid, msid, COUNT(DISTINCT role) AS role_count FROM made_by GROUP BY pid, msid) SELECT pid, msid FROM entity_roles WHERE role_count > 1;'}, {'question': 'Which entities were involved in productions released in a specific year?', 'query': 'SELECT msid FROM made_by WHERE pid IN (SELECT pid FROM movie WHERE release_year = 2020);'}]}, {'table_name': 'movie', 'description': \"The 'movie' table contains detailed information about movies, including the unique movie ID, title, release year, alternate titles, and budget. This table is used for querying movie metadata, such as finding movies by title, filtering by release year, or performing analysis on movie budgets.\", 'columns': [{'name': 'movie.mid', 'description': 'A unique identifier for each movie. This field serves as the primary key of the table.'}, {'name': 'movie.title', 'description': 'The title of the movie, stored as a text field.'}, {'name': 'movie.release_year', 'description': 'The year the movie was released, stored as an integer. It helps to filter movies by the release date.'}, {'name': 'movie.title_aka', 'description': \"The alternate or 'also known as' title of the movie, stored as text. It accounts for movies released under different names in various regions or markets.\"}, {'name': 'movie.budget', 'description': 'The budget of the movie, represented as text. This field may contain both numeric and non-numeric values depending on how the budget is recorded.'}], 'queries': [{'question': 'What is the title of the movie with ID 1?', 'query': 'SELECT title FROM movie WHERE mid = 1;'}, {'question': 'List all movies released in 2020.', 'query': 'SELECT title FROM movie WHERE release_year = 2020;'}, {'question': 'Find the movie with the highest budget.', 'query': 'SELECT title, budget FROM movie ORDER BY budget DESC LIMIT 1;'}, {'question': 'Which movies released after 2015 had a budget over $50 million?', 'query': 'SELECT title FROM movie WHERE release_year > 2015 AND CAST(budget AS INTEGER) > 50000000;'}, {'question': 'What is the average release year of movies by title category (i.e., original vs. alternate title)?', 'query': \"WITH title_avg_year AS (SELECT CASE WHEN title_aka IS NULL THEN 'Original' ELSE 'Alternate' END AS title_type, AVG(release_year) AS avg_year FROM movie GROUP BY title_type) SELECT * FROM title_avg_year;\"}]}, {'table_name': 'producer', 'description': \"The 'producer' table stores information about movie producers, including their unique IDs (pid), gender, name, nationality, city of birth, and year of birth. This table provides demographic and career-related details of producers, allowing queries to extract insights based on various attributes such as gender, nationality, and birth year.\", 'columns': [{'name': 'producer.pid', 'description': 'A unique identifier for each producer. This field serves as the primary key for the table.'}, {'name': 'producer.gender', 'description': \"The gender of the producer, stored as text. Possible values could include 'male', 'female', or other relevant identifiers.\"}, {'name': 'producer.name', 'description': \"The full name of the producer, stored as text. This field identifies the producer's identity in the database.\"}, {'name': 'producer.nationality', 'description': 'The nationality of the producer, stored as text. This indicates the country where the producer is from.'}, {'name': 'producer.birth_city', 'description': 'The city where the producer was born, stored as text.'}, {'name': 'producer.birth_year', 'description': 'The year the producer was born, stored as an integer. This can be used to calculate age or identify trends related to birth years.'}], 'queries': [{'question': 'What is the name of the producer with ID 1?', 'query': 'SELECT name FROM producer WHERE pid = 1;'}, {'question': 'List all female producers.', 'query': \"SELECT name FROM producer WHERE gender = 'female';\"}, {'question': 'What is the average birth year of producers, grouped by nationality?', 'query': 'WITH avg_birth_year AS (SELECT nationality, AVG(birth_year) AS avg_year FROM producer GROUP BY nationality) SELECT p.name, p.nationality, p.birth_year, ab.avg_year FROM producer p JOIN avg_birth_year ab ON p.nationality = ab.nationality;'}, {'question': \"Which producers were born before 1980 and have the nationality 'American'?\", 'query': \"SELECT name, birth_year FROM producer WHERE nationality = 'American' AND birth_year < 1980;\"}, {'question': 'Who are the youngest producers in each city of birth?', 'query': 'WITH ranked_producers AS (SELECT name, birth_city, birth_year, ROW_NUMBER() OVER (PARTITION BY birth_city ORDER BY birth_year DESC) AS rank FROM producer) SELECT name, birth_city, birth_year FROM ranked_producers WHERE rank = 1;'}, {'question': 'What is the birth year difference of each producer from the average birth year of their nationality?', 'query': 'WITH avg_birth_year AS (SELECT nationality, AVG(birth_year) AS avg_year FROM producer GROUP BY nationality) SELECT p.name, p.nationality, p.birth_year, ab.avg_year, p.birth_year - ab.avg_year AS difference FROM producer p JOIN avg_birth_year ab ON p.nationality = ab.nationality;'}, {'question': 'Which nationality has the most producers born in the same year?', 'query': 'SELECT nationality, birth_year, COUNT(*) AS producer_count FROM producer GROUP BY nationality, birth_year ORDER BY producer_count DESC LIMIT 1;'}]}, {'table_name': 'tags', 'description': \"The 'tags' table stores information related to movie tags, linking movies to specific tag identifiers. It includes a unique ID for each tag, along with the movie ID (msid) and a kid identifier for categorizing tags. This table is useful for organizing movies by tags and allows querying of tag relationships with movies.\", 'columns': [{'name': 'tags.id', 'description': 'A unique identifier for each tag. This field serves as the primary key of the table.'}, {'name': 'tags.msid', 'description': 'The movie ID to which the tag is associated, stored as an integer. It is a foreign key reference linking to a movie record.'}, {'name': 'tags.kid', 'description': 'A category identifier for the tag, stored as an integer. This field helps to group tags into specific categories.'}], 'queries': [{'question': 'What is the msid for the tag with ID 1?', 'query': 'SELECT msid FROM tags WHERE id = 1;'}, {'question': 'List all tags for the movie with msid 100.', 'query': 'SELECT id FROM tags WHERE msid = 100;'}, {'question': 'What are the most popular tag categories (kid) for each movie?', 'query': 'WITH tag_counts AS (SELECT msid, kid, COUNT(*) AS count FROM tags GROUP BY msid, kid) SELECT msid, kid, count FROM tag_counts WHERE (msid, count) IN (SELECT msid, MAX(count) FROM tag_counts GROUP BY msid);'}, {'question': 'How many movies are tagged with each category (kid)?', 'query': 'SELECT kid, COUNT(DISTINCT msid) AS movie_count FROM tags GROUP BY kid ORDER BY movie_count DESC;'}, {'question': 'Which movies share the most common tags (msid)?', 'query': 'WITH tag_group AS (SELECT msid, COUNT(DISTINCT id) AS tag_count FROM tags GROUP BY msid) SELECT msid FROM tag_group WHERE tag_count = (SELECT MAX(tag_count) FROM tag_group);'}, {'question': 'What is the distribution of tags across categories?', 'query': 'SELECT kid, COUNT(*) AS tag_count FROM tags GROUP BY kid ORDER BY tag_count DESC;'}, {'question': 'What are the tag categories (kid) most commonly associated with each movie?', 'query': 'WITH tag_ranking AS (SELECT msid, kid, ROW_NUMBER() OVER (PARTITION BY msid ORDER BY COUNT(*) DESC) AS rank FROM tags GROUP BY msid, kid) SELECT msid, kid FROM tag_ranking WHERE rank = 1;'}]}, {'table_name': 'tv_series', 'description': \"The 'tv_series' table contains information about TV series, including their unique series ID (sid), title, release year, number of seasons, number of episodes, alternative titles (title_aka), and budget. This table can be used to query information about TV series, perform aggregations, analyze budgets, and group series by attributes such as release year or number of seasons.\", 'columns': [{'name': 'tv_series.sid', 'description': 'A unique identifier for each TV series. This field serves as the primary key of the table.'}, {'name': 'tv_series.title', 'description': 'The title of the TV series, stored as text. This is the main name by which the series is known.'}, {'name': 'tv_series.release_year', 'description': 'The year the TV series was released, stored as an integer. This is useful for filtering or analyzing series by their release period.'}, {'name': 'tv_series.num_of_seasons', 'description': 'The total number of seasons in the TV series, stored as an integer. This provides an indication of the length of the series.'}, {'name': 'tv_series.num_of_episodes', 'description': 'The total number of episodes in the TV series, stored as an integer. This can be used to understand the depth of the series.'}, {'name': 'tv_series.title_aka', 'description': 'Alternative titles for the TV series, stored as text. This includes other names by which the series may be known.'}, {'name': 'tv_series.budget', 'description': 'The budget of the TV series, stored as text. This can represent either the total budget or a text description of the budget.'}], 'queries': [{'question': 'What is the title of the TV series with ID 1?', 'query': 'SELECT title FROM tv_series WHERE sid = 1;'}, {'question': 'List all TV series released in the year 2020.', 'query': 'SELECT title FROM tv_series WHERE release_year = 2020;'}, {'question': 'What is the average number of seasons per TV series released before 2010?', 'query': 'WITH avg_seasons AS (SELECT AVG(num_of_seasons) AS avg_seasons FROM tv_series WHERE release_year < 2010) SELECT avg_seasons FROM avg_seasons;'}, {'question': 'Which TV series has the highest number of episodes released after 2015?', 'query': 'SELECT title, num_of_episodes FROM tv_series WHERE release_year > 2015 ORDER BY num_of_episodes DESC LIMIT 1;'}, {'question': 'For each release year, list the TV series with the highest number of seasons, and show the total number of episodes.', 'query': 'WITH ranked_series AS (SELECT sid, title, release_year, num_of_seasons, num_of_episodes, ROW_NUMBER() OVER (PARTITION BY release_year ORDER BY num_of_seasons DESC) AS rank FROM tv_series) SELECT title, release_year, num_of_seasons, num_of_episodes FROM ranked_series WHERE rank = 1;'}, {'question': 'What is the budget of the TV series with the most seasons?', 'query': 'SELECT title, budget FROM tv_series WHERE num_of_seasons = (SELECT MAX(num_of_seasons) FROM tv_series);'}, {'question': 'Which TV series has the highest number of seasons and episodes combined?', 'query': 'SELECT title, num_of_seasons, num_of_episodes FROM tv_series ORDER BY num_of_seasons + num_of_episodes DESC LIMIT 1;'}, {'question': 'List all TV series with alternative titles, ordered by release year.', 'query': 'SELECT title, title_aka, release_year FROM tv_series WHERE title_aka IS NOT NULL ORDER BY release_year;'}]}, {'table_name': 'writer', 'description': \"The 'writer' table contains information about writers, including their unique writer ID (wid), gender, name, nationality, city of birth, and birth year. This table can be used to query demographic information about writers, perform aggregations by nationality or city of birth, and analyze their contributions to TV series or other media.\", 'columns': [{'name': 'writer.wid', 'description': 'A unique identifier for each writer. This field serves as the primary key of the table.'}, {'name': 'writer.gender', 'description': 'The gender of the writer, represented as text. This field helps in filtering or grouping writers based on gender.'}, {'name': 'writer.name', 'description': 'The name of the writer, stored as text. This is the name by which the writer is known.'}, {'name': 'writer.nationality', 'description': 'The nationality of the writer, represented as text. This helps in categorizing writers by their country of origin.'}, {'name': 'writer.birth_city', 'description': 'The city where the writer was born, stored as text. This provides geographic context for the writer.'}, {'name': 'writer.birth_year', 'description': \"The year the writer was born, stored as an integer. This helps in determining the writer's age or generational context.\"}], 'queries': [{'question': 'What is the name of the writer with ID 1?', 'query': 'SELECT name FROM writer WHERE wid = 1;'}, {'question': 'List all male writers.', 'query': \"SELECT name FROM writer WHERE gender = 'male';\"}, {'question': 'Who are the oldest writers in each nationality group?', 'query': 'WITH writer_age AS (SELECT name, nationality, birth_year, ROW_NUMBER() OVER (PARTITION BY nationality ORDER BY birth_year ASC) AS rank FROM writer) SELECT name, nationality, birth_year FROM writer_age WHERE rank = 1;'}, {'question': \"What is the average birth year of writers grouped by nationality, and how does each writer's birth year compare to their national average?\", 'query': 'WITH avg_birth_year AS (SELECT nationality, AVG(birth_year) AS avg_year FROM writer GROUP BY nationality) SELECT w.name, w.nationality, w.birth_year, ab.avg_year, w.birth_year - ab.avg_year AS difference FROM writer w JOIN avg_birth_year ab ON w.nationality = ab.nationality;'}, {'question': 'What are the top 3 youngest writers (by birth year) in each city of birth?', 'query': 'WITH ranked_writers AS (SELECT name, birth_city, birth_year, ROW_NUMBER() OVER (PARTITION BY birth_city ORDER BY birth_year DESC) AS rank FROM writer) SELECT name, birth_city, birth_year FROM ranked_writers WHERE rank <= 3;'}, {'question': \"Which writers were born before 1980 and have 'British' nationality?\", 'query': \"SELECT name, birth_year FROM writer WHERE nationality = 'British' AND birth_year < 1980;\"}, {'question': 'List all writers born after 1990, ordered by birth year in descending order.', 'query': 'SELECT name, birth_year FROM writer WHERE birth_year > 1990 ORDER BY birth_year DESC;'}, {'question': 'Which nationality has the most writers with the same name?', 'query': 'SELECT name, nationality, COUNT(*) AS name_count FROM writer GROUP BY name, nationality ORDER BY name_count DESC LIMIT 1;'}]}, {'table_name': 'written_by', 'description': \"The 'written_by' table represents a relationship between authors and their works. It contains columns to track the IDs of authors, manuscripts, and works, allowing queries to retrieve the associations between authors and their respective works. The table is used to query which authors wrote specific works, analyze the number of works per author, and perform more advanced queries involving author and work statistics.\", 'columns': [{'name': 'written_by.id', 'description': \"A unique identifier for each entry in the 'written_by' table, serving as the primary key.\"}, {'name': 'written_by.msid', 'description': 'The manuscript ID associated with a work. It links to a manuscript record, indicating which manuscript was authored.'}, {'name': 'written_by.wid', 'description': 'The work ID associated with the manuscript. It helps to track which work a specific manuscript belongs to.'}], 'queries': [{'question': 'Find the manuscript ID for work ID 5.', 'query': 'SELECT msid FROM written_by WHERE wid = 5;'}, {'question': 'List all the work IDs that have been written by the author with ID 3.', 'query': 'SELECT wid FROM written_by WHERE id = 3;'}, {'question': 'Which authors have written more than 5 works?', 'query': 'WITH work_counts AS (SELECT id, COUNT(wid) AS work_count FROM written_by GROUP BY id) SELECT id FROM work_counts WHERE work_count > 5;'}, {'question': 'For each work, list the authors who have written it, including their respective manuscript IDs, ordered by the manuscript ID.', 'query': 'WITH author_works AS (SELECT wid, id, msid FROM written_by) SELECT wid, id, msid FROM author_works ORDER BY msid;'}, {'question': 'List the works written by authors who have also written a manuscript with ID 2.', 'query': 'SELECT DISTINCT wid FROM written_by WHERE id IN (SELECT id FROM written_by WHERE msid = 2);'}, {'question': 'What is the total number of manuscripts written by each author, and which author has written the most?', 'query': 'WITH manuscript_counts AS (SELECT id, COUNT(msid) AS manuscript_count FROM written_by GROUP BY id) SELECT id, manuscript_count FROM manuscript_counts ORDER BY manuscript_count DESC LIMIT 1;'}, {'question': 'What are the manuscripts for works written by authors with ID 2 and ID 4?', 'query': 'SELECT msid FROM written_by WHERE id IN (2, 4);'}, {'question': 'Which works are associated with the most authors, ordered by the number of associated authors?', 'query': 'WITH work_author_count AS (SELECT wid, COUNT(id) AS author_count FROM written_by GROUP BY wid) SELECT wid, author_count FROM work_author_count ORDER BY author_count DESC LIMIT 1;'}]}]}\n"
     ]
    }
   ],
   "source": [
    "import faiss\n",
    "import numpy as np\n",
    "from sentence_transformers import SentenceTransformer\n",
    "import json\n",
    "\n",
    "# Sample metadata input (JSON format)\n",
    "\n",
    "metadata_json ='/content/drive/MyDrive/Colab Notebooks/metadata.json'\n",
    "with open(metadata_json, 'r') as file:\n",
    "    metadata = json.load(file)\n",
    "print(metadata)\n",
    "\n",
    "\n",
    "\n",
    "\n",
    "\n",
    "\n",
    "\n"
   ]
  },
  {
   "cell_type": "code",
   "execution_count": null,
   "metadata": {
    "id": "W6DrQ2Gkuadr"
   },
   "outputs": [],
   "source": [
    "for table in metadata['table_descriptions']:\n",
    "    if table['table_name'] == 'writer':\n",
    "        table[\"description\"]=\"The 'writer' table contains information about movie  writers, including their unique writer ID (wid), gender, name, nationality, city of birth, and birth year.\""
   ]
  },
  {
   "cell_type": "code",
   "execution_count": null,
   "metadata": {
    "id": "f3-X_D5VsYV9"
   },
   "outputs": [],
   "source": []
  },
  {
   "cell_type": "markdown",
   "metadata": {
    "id": "mDetoD4X5k0U"
   },
   "source": [
    "# Simple indexing"
   ]
  },
  {
   "cell_type": "code",
   "execution_count": null,
   "metadata": {
    "colab": {
     "base_uri": "https://localhost:8080/"
    },
    "executionInfo": {
     "elapsed": 1759,
     "status": "error",
     "timestamp": 1738076542140,
     "user": {
      "displayName": "PETKAR ANURAG KISHOR",
      "userId": "09737349906315307369"
     },
     "user_tz": -330
    },
    "id": "U00lQN5GsU8B",
    "outputId": "5922e481-5545-4b6d-8913-25ed810bf46d"
   },
   "outputs": [
    {
     "ename": "NameError",
     "evalue": "name 'SentenceTransformer' is not defined",
     "output_type": "error",
     "traceback": [
      "\u001b[0;31m---------------------------------------------------------------------------\u001b[0m",
      "\u001b[0;31mNameError\u001b[0m                                 Traceback (most recent call last)",
      "\u001b[0;32m<ipython-input-2-9feff51c7d6e>\u001b[0m in \u001b[0;36m<cell line: 0>\u001b[0;34m()\u001b[0m\n\u001b[1;32m      1\u001b[0m \u001b[0;31m# Load the model for sentence embeddings\u001b[0m\u001b[0;34m\u001b[0m\u001b[0;34m\u001b[0m\u001b[0m\n\u001b[0;32m----> 2\u001b[0;31m \u001b[0mmodel\u001b[0m \u001b[0;34m=\u001b[0m \u001b[0mSentenceTransformer\u001b[0m\u001b[0;34m(\u001b[0m\u001b[0;34m'all-mpnet-base-v2'\u001b[0m\u001b[0;34m)\u001b[0m\u001b[0;34m\u001b[0m\u001b[0;34m\u001b[0m\u001b[0m\n\u001b[0m",
      "\u001b[0;31mNameError\u001b[0m: name 'SentenceTransformer' is not defined"
     ]
    }
   ],
   "source": [
    "# Load the model for sentence embeddings\n",
    "model = SentenceTransformer('all-mpnet-base-v2')"
   ]
  },
  {
   "cell_type": "code",
   "execution_count": null,
   "metadata": {
    "id": "5njIHkcGr_yc"
   },
   "outputs": [],
   "source": []
  },
  {
   "cell_type": "code",
   "execution_count": null,
   "metadata": {
    "id": "uOKi8p6gr9Hs"
   },
   "outputs": [],
   "source": [
    "# Function to create embeddings for text\n",
    "def create_embeddings(texts):\n",
    "    return model.encode(texts)\n",
    "\n",
    "# Step 1: Index tables and columns using FAISS\n",
    "def index_data(metadata):\n",
    "    # Create lists for table and column descriptions\n",
    "    table_descriptions = [table['description'] for table in metadata['table_descriptions']]\n",
    "    column_descriptions = []\n",
    "    column_refs = []\n",
    "\n",
    "    for table in metadata['table_descriptions']:\n",
    "        for column in table['columns']:\n",
    "            column_descriptions.append(column[\"name\"]+\" \" + column['description'])\n",
    "            column_refs.append(column['name'])\n",
    "\n",
    "    # Create embeddings for tables and columns\n",
    "    table_embeddings = create_embeddings(table_descriptions)\n",
    "    column_embeddings = create_embeddings(column_descriptions)\n",
    "    print(column_descriptions)\n",
    "    # FAISS index for tables\n",
    "    table_index = faiss.IndexFlatL2(table_embeddings[0].shape[0])  # Using L2 distance (Euclidean distance)\n",
    "    table_index.add(np.array(table_embeddings).astype('float32'))\n",
    "\n",
    "    # FAISS index for columns\n",
    "    column_index = faiss.IndexFlatL2(column_embeddings[0].shape[0])  # Using L2 distance (Euclidean distance)\n",
    "    column_index.add(np.array(column_embeddings).astype('float32'))\n",
    "\n",
    "    return table_index, column_index, column_refs, table_embeddings, column_embeddings\n"
   ]
  },
  {
   "cell_type": "code",
   "execution_count": null,
   "metadata": {
    "id": "Qv45TAH2sAcj"
   },
   "outputs": [],
   "source": [
    "# Step 2: Retrieve relevant tables and columns for a query\n",
    "def retrieve_relevant_data(query, table_index, column_index, column_refs, table_embeddings, column_embeddings,metadata):\n",
    "    # Embed the query using the same model\n",
    "    query_embedding = create_embeddings([query])\n",
    "\n",
    "    # Step 2.1: Retrieve relevant tables\n",
    "    table_distances, table_indices = table_index.search(np.array(query_embedding).astype('float32'), k=4)  # Get top 4 relevant tables\n",
    "    relevant_tables = [metadata['table_descriptions'][i]['table_name'] for i in table_indices[0]]\n",
    "\n",
    "    # Step 2.2: Retrieve relevant columns for these tables\n",
    "    relevant_columns = []\n",
    "    for table in relevant_tables:\n",
    "        # Filter columns related to the table\n",
    "        table_columns = [column['description'] for column in next(t for t in metadata['table_descriptions'] if t['table_name'] == table)['columns']]\n",
    "\n",
    "        column_distances, column_indices = column_index.search(np.array(query_embedding).astype('float32'), k=3)  # Get top 5 relevant columns\n",
    "        for idx in column_indices[0]:\n",
    "            relevant_columns.append(column_refs[idx])\n",
    "\n",
    "    return relevant_tables, relevant_columns\n"
   ]
  },
  {
   "cell_type": "code",
   "execution_count": null,
   "metadata": {
    "colab": {
     "base_uri": "https://localhost:8080/"
    },
    "executionInfo": {
     "elapsed": 15331,
     "status": "ok",
     "timestamp": 1737201454724,
     "user": {
      "displayName": "PETKAR ANURAG KISHOR",
      "userId": "09737349906315307369"
     },
     "user_tz": -330
    },
    "id": "V-a0LLKcsClN",
    "outputId": "4335ccd3-7765-48a4-fe17-39e5e0ce9b29"
   },
   "outputs": [
    {
     "name": "stdout",
     "output_type": "stream",
     "text": [
      "['actor.aid A unique identifier for each actor. This field serves as the primary key of the table.', 'actor.gender The gender of the actor, represented as a text field.', 'actor.name The name of the actor, stored as text. This is the name by which the actor is known.', 'actor.nationality The nationality of the actor, represented as text. This indicates the country the actor is associated with.', 'actor.birth_city The city where the actor was born, stored as text.', \"actor.birth_year The year the actor was born, stored as an integer. This helps in determining the actor's age or generation.\", 'cast.id A unique identifier for each entry in the cast table. This field serves as the primary key.', 'cast.msid A unique identifier for the production (movie, show, etc.) that the actor is associated with. It serves as a foreign key linking to other related tables.', 'cast.aid A unique identifier for the actor. This serves as a foreign key linking to an actor table containing detailed information about the actor.', 'cast.role The role that the actor plays in the associated production, represented as a text field.', 'classification.id A unique identifier for each classification entry. This field serves as the primary key.', 'classification.msid A unique identifier for the production or item being classified. It serves as a foreign key linking to other related tables.', 'classification.gid A unique identifier for the group to which the production is classified. This field helps in grouping items based on classification categories.', 'company.id A unique identifier for each company. This field serves as the primary key of the table.', 'company.name The name of the company, stored as text. This represents the official name of the company.', 'company.country_code The country code for the company, stored as a varchar. It represents the country in which the company is located.', 'copyright.id A unique identifier for each copyright. This field serves as the primary key of the table.', 'copyright.msid The media set ID, which identifies the set of media that the copyright is associated with.', 'copyright.cid The company ID, which links the copyright to a specific company.', 'directed_by.id A unique identifier for each entry in the directed_by table. This field serves as the primary key.', 'directed_by.msid The media set ID, representing the media that the director is associated with.', 'directed_by.did The director ID, which links the media to the director.', 'director.did A unique identifier for each director. This field serves as the primary key of the table.', 'director.gender The gender of the director, stored as text. This field can be used to group and analyze data by gender.', 'director.name The name of the director, stored as text. This is the name by which the director is known.', 'director.nationality The nationality of the director, stored as text. This field helps in categorizing directors by their country of origin.', 'director.birth_city The city where the director was born, stored as text.', \"director.birth_year The year the director was born, stored as an integer. This helps in determining the director's age or generational trends.\", 'genre.gid A unique identifier for each genre. This field serves as the primary key of the table.', \"genre.genre The name of the genre, stored as text. This field represents the genre to which a film belongs (e.g., 'Action', 'Drama').\", 'keyword.id A unique identifier for each keyword. This field serves as the primary key of the table.', \"keyword.keyword The keyword associated with a film, stored as text. This field represents a specific theme, location, or attribute of a film (e.g., 'Romance', 'New York').\", 'made_by.id A unique identifier for each movie production entry. This field serves as the primary key of the table.', \"made_by.msid The ID of the entity (e.g., a person or organization) involved in the movie production. This field is a foreign key referring to the respective entity's table.\", 'made_by.pid The ID of the production, which associates the entity with a specific production project.', 'movie.mid A unique identifier for each movie. This field serves as the primary key of the table.', 'movie.title The title of the movie, stored as a text field.', 'movie.release_year The year the movie was released, stored as an integer. It helps to filter movies by the release date.', \"movie.title_aka The alternate or 'also known as' title of the movie, stored as text. It accounts for movies released under different names in various regions or markets.\", 'movie.budget The budget of the movie, represented as text. This field may contain both numeric and non-numeric values depending on how the budget is recorded.', 'producer.pid A unique identifier for each producer. This field serves as the primary key for the table.', \"producer.gender The gender of the producer, stored as text. Possible values could include 'male', 'female', or other relevant identifiers.\", \"producer.name The full name of the producer, stored as text. This field identifies the producer's identity in the database.\", 'producer.nationality The nationality of the producer, stored as text. This indicates the country where the producer is from.', 'producer.birth_city The city where the producer was born, stored as text.', 'producer.birth_year The year the producer was born, stored as an integer. This can be used to calculate age or identify trends related to birth years.', 'tags.id A unique identifier for each tag. This field serves as the primary key of the table.', 'tags.msid The movie ID to which the tag is associated, stored as an integer. It is a foreign key reference linking to a movie record.', 'tags.kid A category identifier for the tag, stored as an integer. This field helps to group tags into specific categories.', 'tv_series.sid A unique identifier for each TV series. This field serves as the primary key of the table.', 'tv_series.title The title of the TV series, stored as text. This is the main name by which the series is known.', 'tv_series.release_year The year the TV series was released, stored as an integer. This is useful for filtering or analyzing series by their release period.', 'tv_series.num_of_seasons The total number of seasons in the TV series, stored as an integer. This provides an indication of the length of the series.', 'tv_series.num_of_episodes The total number of episodes in the TV series, stored as an integer. This can be used to understand the depth of the series.', 'tv_series.title_aka Alternative titles for the TV series, stored as text. This includes other names by which the series may be known.', 'tv_series.budget The budget of the TV series, stored as text. This can represent either the total budget or a text description of the budget.', 'writer.wid A unique identifier for each writer. This field serves as the primary key of the table.', 'writer.gender The gender of the writer, represented as text. This field helps in filtering or grouping writers based on gender.', 'writer.name The name of the writer, stored as text. This is the name by which the writer is known.', 'writer.nationality The nationality of the writer, represented as text. This helps in categorizing writers by their country of origin.', 'writer.birth_city The city where the writer was born, stored as text. This provides geographic context for the writer.', \"writer.birth_year The year the writer was born, stored as an integer. This helps in determining the writer's age or generational context.\", \"written_by.id A unique identifier for each entry in the 'written_by' table, serving as the primary key.\", 'written_by.msid The manuscript ID associated with a work. It links to a manuscript record, indicating which manuscript was authored.', 'written_by.wid The work ID associated with the manuscript. It helps to track which work a specific manuscript belongs to.']\n"
     ]
    }
   ],
   "source": [
    "# Step 3: Index tables and columns\n",
    "table_index, column_index, column_refs, table_embeddings, column_embeddings = index_data(metadata)\n",
    "\n",
    "\n"
   ]
  },
  {
   "cell_type": "code",
   "execution_count": null,
   "metadata": {
    "id": "ua5TCRbS5IVk"
   },
   "outputs": [],
   "source": []
  },
  {
   "cell_type": "code",
   "execution_count": null,
   "metadata": {
    "colab": {
     "base_uri": "https://localhost:8080/"
    },
    "executionInfo": {
     "elapsed": 17,
     "status": "ok",
     "timestamp": 1737201454725,
     "user": {
      "displayName": "PETKAR ANURAG KISHOR",
      "userId": "09737349906315307369"
     },
     "user_tz": -330
    },
    "id": "YJYOEsG6uin3",
    "outputId": "4e1b11eb-3968-46ff-cfd3-066922b910dd"
   },
   "outputs": [
    {
     "name": "stdout",
     "output_type": "stream",
     "text": [
      "<faiss.swigfaiss_avx2.IndexFlatL2; proxy of <Swig Object of type 'faiss::IndexFlatL2 *' at 0x7c421daf7fc0> >\n"
     ]
    }
   ],
   "source": [
    "# print(table_index)\n",
    "print(column_index)\n",
    "# print(column_refs)\n",
    "# print(table_embeddings)\n",
    "# print(column_embeddings)"
   ]
  },
  {
   "cell_type": "code",
   "execution_count": null,
   "metadata": {
    "colab": {
     "base_uri": "https://localhost:8080/"
    },
    "executionInfo": {
     "elapsed": 12,
     "status": "ok",
     "timestamp": 1737201454726,
     "user": {
      "displayName": "PETKAR ANURAG KISHOR",
      "userId": "09737349906315307369"
     },
     "user_tz": -330
    },
    "id": "IKqgoMjAug1Y",
    "outputId": "cb9618a8-c65b-45d2-d20f-051c084354bb"
   },
   "outputs": [
    {
     "name": "stdout",
     "output_type": "stream",
     "text": [
      "Relevant Tables: ['writer', 'producer', 'movie', 'genre']\n",
      "Relevant Columns: ['directed_by.did', 'movie.release_year', 'movie.title', 'directed_by.did', 'movie.release_year', 'movie.title', 'directed_by.did', 'movie.release_year', 'movie.title', 'directed_by.did', 'movie.release_year', 'movie.title']\n"
     ]
    }
   ],
   "source": [
    "# Example query\n",
    "query = \"Find all movies written and produced by 'Woody Allen'\"\n",
    "\n",
    "# Step 4: Retrieve relevant tables and columns for the query\n",
    "relevant_tables, relevant_columns = retrieve_relevant_data(query, table_index, column_index, column_refs, table_embeddings, column_embeddings,metadata)\n",
    "\n",
    "# Output\n",
    "print(\"Relevant Tables:\", relevant_tables)\n",
    "print(\"Relevant Columns:\", relevant_columns)"
   ]
  },
  {
   "cell_type": "code",
   "execution_count": null,
   "metadata": {
    "colab": {
     "base_uri": "https://localhost:8080/"
    },
    "collapsed": true,
    "executionInfo": {
     "elapsed": 477,
     "status": "ok",
     "timestamp": 1737201459653,
     "user": {
      "displayName": "PETKAR ANURAG KISHOR",
      "userId": "09737349906315307369"
     },
     "user_tz": -330
    },
    "id": "wocQtzpbL6XL",
    "outputId": "bf1ec724-d2f4-4823-923f-81cd7d5109a4"
   },
   "outputs": [
    {
     "data": {
      "text/plain": [
       "{'queries': [{'query': \"Find all movies produced by producer  'Walt Disney' after year 2010\",\n",
       "   'ground_truth': {'tables': ['COMPANY', 'COPYRIGHT', 'MOVIE'],\n",
       "    'columns': ['COMPANY.NAME',\n",
       "     'COPYRIGHT.CID',\n",
       "     'COPYRIGHT.MSID',\n",
       "     'MOVIE.TITLE',\n",
       "     'MOVIE.RELEASE_YEAR']}},\n",
       "  {'query': \"What is the nationality of writer  'Kevin Spacey'?\",\n",
       "   'ground_truth': {'tables': ['WRITER'], 'columns': ['WRITER.NATIONALITY']}},\n",
       "  {'query': \"How much was the budget of  movie 'Finding Nemo'?\",\n",
       "   'ground_truth': {'tables': ['MOVIE'], 'columns': ['MOVIE.BUDGET']}},\n",
       "  {'query': \"Find all movies directed by director 'Steven Spielberg' after 2010\",\n",
       "   'ground_truth': {'tables': ['DIRECTED_BY', 'DIRECTOR', 'MOVIE'],\n",
       "    'columns': ['DIRECTOR.NAME', 'MOVIE.TITLE', 'MOVIE.RELEASE_YEAR']}},\n",
       "  {'query': \"Who is the director of the movie 'James Bond'?\",\n",
       "   'ground_truth': {'tables': ['DIRECTED_BY', 'DIRECTOR', 'MOVIE'],\n",
       "    'columns': ['DIRECTOR.NAME']}},\n",
       "  {'query': \"Find the actor who played role  'Alan Turing' in the movie 'The Imitation Game'\",\n",
       "   'ground_truth': {'tables': ['ACTOR', 'CAST', 'MOVIE'],\n",
       "    'columns': ['ACTOR.NAME', 'CAST.ROLE', 'MOVIE.TITLE']}},\n",
       "  {'query': \"What is the genre of the movie 'Jurassic Park'?\",\n",
       "   'ground_truth': {'tables': ['CLASSIFICATION', 'GENRE', 'MOVIE'],\n",
       "    'columns': ['GENRE.GENRE', 'MOVIE.TITLE']}},\n",
       "  {'query': \"Who was the director of the movie 'Joy' from 2015?\",\n",
       "   'ground_truth': {'tables': ['DIRECTED_BY', 'DIRECTOR', 'MOVIE'],\n",
       "    'columns': ['DIRECTOR.NAME', 'MOVIE.TITLE', 'MOVIE.RELEASE_YEAR']}},\n",
       "  {'query': \"Find all movies written by writer  'Matt Damon'\",\n",
       "   'ground_truth': {'tables': ['MOVIE', 'WRITER', 'WRITTEN_BY'],\n",
       "    'columns': ['MOVIE.TITLE', 'WRITER.NAME']}},\n",
       "  {'query': \"Find all movies written and produced by 'Woody Allen'\",\n",
       "   'ground_truth': {'tables': ['MADE_BY',\n",
       "     'MOVIE',\n",
       "     'PRODUCER',\n",
       "     'WRITER',\n",
       "     'WRITTEN_BY'],\n",
       "    'columns': ['MOVIE.TITLE', 'PRODUCER.NAME', 'WRITER.NAME']}},\n",
       "  {'query': \"Find all movies featuring  actor 'Robin Wright'\",\n",
       "   'ground_truth': {'tables': ['ACTOR', 'CAST', 'MOVIE'],\n",
       "    'columns': ['ACTOR.NAME', 'MOVIE.TITLE']}},\n",
       "  {'query': 'What was the budget of the movie Junofrom 2007?',\n",
       "   'ground_truth': {'tables': ['MOVIE'],\n",
       "    'columns': ['MOVIE.BUDGET', 'MOVIE.RELEASE_YEAR', 'MOVIE.TITLE']}},\n",
       "  {'query': 'Find all Sci-Fi genre movies produced in year 2012',\n",
       "   'ground_truth': {'tables': ['CLASSIFICATION', 'GENRE', 'MOVIE'],\n",
       "    'columns': ['GENRE.GENRE',\n",
       "     'GENRE.GID',\n",
       "     'CLASSIFICATION.GID',\n",
       "     'CLASSIFICATION.MSID',\n",
       "     'MOVIE.TITLE',\n",
       "     'MOVIE.RELEASE_YEAR']}},\n",
       "  {'query': \"Find all actors born in city  'Austin' after 1993\",\n",
       "   'ground_truth': {'tables': ['ACTOR'],\n",
       "    'columns': ['ACTOR.NAME', 'ACTOR.BIRTH_CITY', 'ACTOR.BIRTH_YEAR']}},\n",
       "  {'query': \"Find all movies by directors born in 'Los Angeles'\",\n",
       "   'ground_truth': {'tables': ['DIRECTED_BY', 'DIRECTOR', 'MOVIE'],\n",
       "    'columns': ['DIRECTOR.BIRTH_CITY',\n",
       "     'DIRECTOR.DID',\n",
       "     'DIRECTED_BY.DID',\n",
       "     'MOVIE.TITLE',\n",
       "     'MOVIE.MID']}},\n",
       "  {'query': \"What company produced the movie 'Juno'?\",\n",
       "   'ground_truth': {'tables': ['COMPANY', 'COPYRIGHT', 'MOVIE'],\n",
       "    'columns': ['COMPANY.NAME',\n",
       "     'COPYRIGHT.CID',\n",
       "     'COPYRIGHT.MSID',\n",
       "     'MOVIE.TITLE']}},\n",
       "  {'query': 'Find all movies that were produced by company_name0',\n",
       "   'ground_truth': {'tables': ['COMPANY', 'COPYRIGHT', 'MOVIE'],\n",
       "    'columns': ['COMPANY.NAME',\n",
       "     'COPYRIGHT.CID',\n",
       "     'COPYRIGHT.MSID',\n",
       "     'MOVIE.TITLE']}},\n",
       "  {'query': \"Find all actors who were born in 'New York City' in year 1994\",\n",
       "   'ground_truth': {'tables': ['ACTOR'],\n",
       "    'columns': ['ACTOR.NAME', 'ACTOR.BIRTH_CITY', 'ACTOR.BIRTH_YEAR']}},\n",
       "  {'query': 'Find all movies about keyword book',\n",
       "   'ground_truth': {'tables': ['KEYWORD', 'MOVIE', 'TAGS'],\n",
       "    'columns': ['KEYWORD.KEYWORD', 'TAGS.KID', 'TAGS.MSID', 'MOVIE.TITLE']}},\n",
       "  {'query': \"Find all movies produced by 'Walt Disney' after 1998\",\n",
       "   'ground_truth': {'tables': ['COMPANY', 'COPYRIGHT', 'MOVIE'],\n",
       "    'columns': ['COMPANY.NAME',\n",
       "     'COPYRIGHT.CID',\n",
       "     'COPYRIGHT.MSID',\n",
       "     'MOVIE.TITLE',\n",
       "     'MOVIE.RELEASE_YEAR']}},\n",
       "  {'query': \"Which movies did director 'Alfred Hitchcock' direct?\",\n",
       "   'ground_truth': {'tables': ['DIRECTED_BY', 'DIRECTOR', 'MOVIE'],\n",
       "    'columns': ['DIRECTOR.DID',\n",
       "     'DIRECTOR.NAME',\n",
       "     'MOVIE.TITLE',\n",
       "     'MOVIE.MID']}}]}"
      ]
     },
     "execution_count": 27,
     "metadata": {},
     "output_type": "execute_result"
    }
   ],
   "source": [
    "from sklearn.metrics import precision_score, recall_score\n",
    "import numpy as np\n",
    "\n",
    "# Sample ground truth data\n",
    "ground_truth_json ='/content/drive/MyDrive/Colab Notebooks/retrival_eval.json'\n",
    "with open(ground_truth_json, 'r') as file:\n",
    "    evaluation = json.load(file)\n",
    "\n",
    "evaluation\n",
    "\n",
    "\n"
   ]
  },
  {
   "cell_type": "code",
   "execution_count": null,
   "metadata": {
    "id": "yjElQyPoQRqp"
   },
   "outputs": [],
   "source": [
    "\n",
    "\n"
   ]
  },
  {
   "cell_type": "code",
   "execution_count": null,
   "metadata": {
    "id": "QtEZ83pUMOzn"
   },
   "outputs": [],
   "source": [
    "def calculate_precision_recall(ground_truth_columns, retrieved_columns):\n",
    "    relevant_retrieved = len(set(ground_truth_columns) & set(retrieved_columns))\n",
    "    precision = relevant_retrieved / len(retrieved_columns) if retrieved_columns else 0\n",
    "    recall = relevant_retrieved / len(ground_truth_columns) if ground_truth_columns else 0\n",
    "    if precision + recall > 0:\n",
    "        f1 = 2 * (precision * recall) / (precision + recall)\n",
    "    else:\n",
    "        f1 = 0\n",
    "\n",
    "    return precision, recall, f1\n",
    "\n"
   ]
  },
  {
   "cell_type": "code",
   "execution_count": null,
   "metadata": {
    "id": "jN0vjS2vMYsi"
   },
   "outputs": [],
   "source": [
    "\n",
    "def get_eval(retrieved_data,evaluation):\n",
    "  queries = evaluation['queries']\n",
    "  total_precision = 0\n",
    "  total_recall = 0\n",
    "  total_f1 = 0\n",
    "  queries = evaluation['queries']\n",
    "  num_queries = len(queries)\n",
    "  import pandas as pd\n",
    "  query_precisions = []\n",
    "  query_recalls = []\n",
    "  retrived_columns_list = []\n",
    "  ground_truth_columns_list = []\n",
    "  query_f1 =  []\n",
    "\n",
    "  for i,query_data in enumerate(queries):\n",
    "      ground_truth_columns = [column.lower()  for column in  query_data['ground_truth']['columns']]\n",
    "      retrieved_columns = retrieved_data['retrieved_columns'][i]\n",
    "\n",
    "      precision, recall, f1 = calculate_precision_recall(ground_truth_columns, retrieved_columns)\n",
    "      query_precisions.append(precision)\n",
    "      query_recalls.append(recall)\n",
    "      query_f1.append(f1)\n",
    "      total_precision += precision\n",
    "      total_recall += recall\n",
    "      total_f1 += f1\n",
    "      retrived_columns_list.append([\" \".join(retrieved_columns)])\n",
    "      ground_truth_columns_list.append([\" \".join(ground_truth_columns)])\n",
    "  eval_df = pd.DataFrame({\"queries\":retrieved_data[\"query\"],\"ground_truth_cols\":ground_truth_columns_list,\"retrived_columns\":retrived_columns_list,\"query_precisions\":query_precisions,\"query_recalls\":query_recalls,\"query_f1\":query_f1})\n",
    "  eval_df.to_csv(\"retrival_eval.csv\",index=False)\n",
    "\n",
    "\n",
    "  # Calculate average precision and recall across all queries\n",
    "  avg_precision = total_precision / num_queries\n",
    "  avg_recall = total_recall / num_queries\n",
    "  avg_f1 = total_f1 / num_queries\n",
    "  # Output average precision and recall\n",
    "  print(f\"Average Precision: {avg_precision:.4f}\")\n",
    "  print(f\"Average Recall: {avg_recall:.4f}\")\n",
    "  print(f\"Average F1: {avg_f1:.4f}\")\n",
    "\n"
   ]
  },
  {
   "cell_type": "code",
   "execution_count": null,
   "metadata": {
    "colab": {
     "base_uri": "https://localhost:8080/"
    },
    "executionInfo": {
     "elapsed": 2872,
     "status": "ok",
     "timestamp": 1737202448747,
     "user": {
      "displayName": "PETKAR ANURAG KISHOR",
      "userId": "09737349906315307369"
     },
     "user_tz": -330
    },
    "id": "NU5UT9IeQt8c",
    "outputId": "cae215c9-fb47-46c3-9f4b-c9195eb2ab4d"
   },
   "outputs": [
    {
     "name": "stderr",
     "output_type": "stream",
     "text": [
      "100%|██████████| 21/21 [00:02<00:00,  8.18it/s]"
     ]
    },
    {
     "name": "stdout",
     "output_type": "stream",
     "text": [
      "Average Precision: 0.1111\n",
      "Average Recall: 0.5063\n",
      "Average F1: 0.1748\n"
     ]
    },
    {
     "name": "stderr",
     "output_type": "stream",
     "text": [
      "\n"
     ]
    }
   ],
   "source": [
    "\n",
    "retrieved_data = {\"query\":[],\"retrieved_columns\":[]}\n",
    "\n",
    "queries = evaluation['queries']\n",
    "from tqdm import tqdm\n",
    "for query_data in tqdm(queries):\n",
    "  query = query_data['query']\n",
    "  relevant_tables, relevant_columns = retrieve_relevant_data(query, table_index, column_index, column_refs, table_embeddings, column_embeddings,metadata)\n",
    "  retrieved_data[\"query\"].append(query)\n",
    "  retrieved_data[\"retrieved_columns\"].append(relevant_columns)\n",
    "\n",
    "\n",
    "get_eval(retrieved_data,evaluation)"
   ]
  },
  {
   "cell_type": "markdown",
   "metadata": {
    "id": "l-esghQu5KyX"
   },
   "source": [
    "# heirarchical indexing"
   ]
  },
  {
   "cell_type": "code",
   "execution_count": null,
   "metadata": {
    "id": "YRBoU0RD5Juu"
   },
   "outputs": [],
   "source": [
    "\n",
    "# Function to create embeddings for text\n",
    "def create_embeddings(texts):\n",
    "    return model.encode(texts)\n",
    "# Step 1: Index tables and columns using FAISS\n",
    "def index_data(metadata):\n",
    "    # Create lists for table and column descriptions\n",
    "    table_descriptions = [table['description'] for table in metadata['table_descriptions']]\n",
    "    column_descriptions = []\n",
    "    column_refs = []\n",
    "    column_indexes = {}\n",
    "\n",
    "    # Index tables\n",
    "    table_embeddings = create_embeddings(table_descriptions)\n",
    "    table_index = faiss.IndexFlatL2(table_embeddings[0].shape[0])  # Using L2 distance (Euclidean distance)\n",
    "    table_index.add(np.array(table_embeddings).astype('float32'))\n",
    "\n",
    "    # Index columns for each table\n",
    "    for table in metadata['table_descriptions']:\n",
    "        table_columns = []\n",
    "        table_column_refs = []\n",
    "        for column in table['columns']:\n",
    "            table_columns.append(column['description'])\n",
    "            table_column_refs.append(column['name'])\n",
    "\n",
    "        # Create embeddings for columns of the current table\n",
    "        column_embeddings = create_embeddings(table_columns)\n",
    "\n",
    "        # FAISS index for columns of this table\n",
    "        column_index = faiss.IndexFlatL2(column_embeddings[0].shape[0])\n",
    "        column_index.add(np.array(column_embeddings).astype('float32'))\n",
    "\n",
    "        # Store column index and references\n",
    "        column_indexes[table['table_name']] = (column_index, table_column_refs)\n",
    "\n",
    "    return table_index, column_indexes, table_embeddings\n"
   ]
  },
  {
   "cell_type": "code",
   "execution_count": null,
   "metadata": {
    "id": "7e8usbB75J3q"
   },
   "outputs": [],
   "source": [
    "def retrieve_relevant_data(query, table_index, column_indexes, metadata):\n",
    "    # Embed the query using the same model\n",
    "    query_embedding = create_embeddings([query])\n",
    "\n",
    "    # Step 2.1: Retrieve relevant tables\n",
    "    table_distances, table_indices = table_index.search(np.array(query_embedding).astype('float32'), k=3)  # Get top 3 relevant tables\n",
    "    relevant_tables = [metadata['table_descriptions'][i]['table_name'] for i in table_indices[0]]\n",
    "\n",
    "    # Step 2.2: Retrieve relevant columns for these tables\n",
    "    relevant_columns = []\n",
    "    for table in relevant_tables:\n",
    "        # Get column index and references for the relevant table\n",
    "        column_index, column_refs = column_indexes[table]\n",
    "\n",
    "        # Search for relevant columns from the current table\n",
    "        column_distances, column_indices = column_index.search(np.array(query_embedding).astype('float32'), k=5)  # Get top 5 relevant columns\n",
    "\n",
    "        # Collect relevant columns\n",
    "        for idx in column_indices[0]:\n",
    "            relevant_columns.append(column_refs[idx])\n",
    "\n",
    "    return relevant_tables, relevant_columns"
   ]
  },
  {
   "cell_type": "code",
   "execution_count": null,
   "metadata": {
    "colab": {
     "base_uri": "https://localhost:8080/",
     "height": 162
    },
    "executionInfo": {
     "elapsed": 424,
     "status": "error",
     "timestamp": 1738076512912,
     "user": {
      "displayName": "PETKAR ANURAG KISHOR",
      "userId": "09737349906315307369"
     },
     "user_tz": -330
    },
    "id": "DHwYfyx750JZ",
    "outputId": "707dd65a-7c52-424e-c392-bc322d3412b8"
   },
   "outputs": [
    {
     "ename": "NameError",
     "evalue": "name 'index_data' is not defined",
     "output_type": "error",
     "traceback": [
      "\u001b[0;31m---------------------------------------------------------------------------\u001b[0m",
      "\u001b[0;31mNameError\u001b[0m                                 Traceback (most recent call last)",
      "\u001b[0;32m<ipython-input-1-3ec1041950c8>\u001b[0m in \u001b[0;36m<cell line: 0>\u001b[0;34m()\u001b[0m\n\u001b[1;32m      1\u001b[0m \u001b[0;31m# Step 3: Index tables and columns\u001b[0m\u001b[0;34m\u001b[0m\u001b[0;34m\u001b[0m\u001b[0m\n\u001b[0;32m----> 2\u001b[0;31m \u001b[0mtable_index\u001b[0m\u001b[0;34m,\u001b[0m \u001b[0mcolumn_indexes\u001b[0m\u001b[0;34m,\u001b[0m \u001b[0mtable_embeddings\u001b[0m \u001b[0;34m=\u001b[0m \u001b[0mindex_data\u001b[0m\u001b[0;34m(\u001b[0m\u001b[0mmetadata\u001b[0m\u001b[0;34m)\u001b[0m\u001b[0;34m\u001b[0m\u001b[0;34m\u001b[0m\u001b[0m\n\u001b[0m",
      "\u001b[0;31mNameError\u001b[0m: name 'index_data' is not defined"
     ]
    }
   ],
   "source": [
    "# Step 3: Index tables and columns\n",
    "table_index, column_indexes, table_embeddings = index_data(metadata)"
   ]
  },
  {
   "cell_type": "code",
   "execution_count": null,
   "metadata": {
    "colab": {
     "base_uri": "https://localhost:8080/"
    },
    "executionInfo": {
     "elapsed": 14,
     "status": "ok",
     "timestamp": 1737202481820,
     "user": {
      "displayName": "PETKAR ANURAG KISHOR",
      "userId": "09737349906315307369"
     },
     "user_tz": -330
    },
    "id": "_mzlKbrY51Hr",
    "outputId": "fdccc55f-ddd9-436a-9a6e-0c103b3de04b"
   },
   "outputs": [
    {
     "name": "stdout",
     "output_type": "stream",
     "text": [
      "<faiss.swigfaiss_avx2.IndexFlatL2; proxy of <Swig Object of type 'faiss::IndexFlatL2 *' at 0x7c41c7f1a700> >\n",
      "{'actor': (<faiss.swigfaiss_avx2.IndexFlatL2; proxy of <Swig Object of type 'faiss::IndexFlatL2 *' at 0x7c41c7f1bb70> >, ['actor.aid', 'actor.gender', 'actor.name', 'actor.nationality', 'actor.birth_city', 'actor.birth_year']), 'cast': (<faiss.swigfaiss_avx2.IndexFlatL2; proxy of <Swig Object of type 'faiss::IndexFlatL2 *' at 0x7c41c7f19560> >, ['cast.id', 'cast.msid', 'cast.aid', 'cast.role']), 'classification': (<faiss.swigfaiss_avx2.IndexFlatL2; proxy of <Swig Object of type 'faiss::IndexFlatL2 *' at 0x7c41c7f19dd0> >, ['classification.id', 'classification.msid', 'classification.gid']), 'company': (<faiss.swigfaiss_avx2.IndexFlatL2; proxy of <Swig Object of type 'faiss::IndexFlatL2 *' at 0x7c41c7f1a910> >, ['company.id', 'company.name', 'company.country_code']), 'copyright': (<faiss.swigfaiss_avx2.IndexFlatL2; proxy of <Swig Object of type 'faiss::IndexFlatL2 *' at 0x7c41b7b655f0> >, ['copyright.id', 'copyright.msid', 'copyright.cid']), 'directed_by': (<faiss.swigfaiss_avx2.IndexFlatL2; proxy of <Swig Object of type 'faiss::IndexFlatL2 *' at 0x7c41b7b664c0> >, ['directed_by.id', 'directed_by.msid', 'directed_by.did']), 'director': (<faiss.swigfaiss_avx2.IndexFlatL2; proxy of <Swig Object of type 'faiss::IndexFlatL2 *' at 0x7c41b7b66700> >, ['director.did', 'director.gender', 'director.name', 'director.nationality', 'director.birth_city', 'director.birth_year']), 'genre': (<faiss.swigfaiss_avx2.IndexFlatL2; proxy of <Swig Object of type 'faiss::IndexFlatL2 *' at 0x7c41b7b66e20> >, ['genre.gid', 'genre.genre']), 'keyword': (<faiss.swigfaiss_avx2.IndexFlatL2; proxy of <Swig Object of type 'faiss::IndexFlatL2 *' at 0x7c41b7b67cc0> >, ['keyword.id', 'keyword.keyword']), 'made_by': (<faiss.swigfaiss_avx2.IndexFlatL2; proxy of <Swig Object of type 'faiss::IndexFlatL2 *' at 0x7c41b7b64570> >, ['made_by.id', 'made_by.msid', 'made_by.pid']), 'movie': (<faiss.swigfaiss_avx2.IndexFlatL2; proxy of <Swig Object of type 'faiss::IndexFlatL2 *' at 0x7c41b7b643f0> >, ['movie.mid', 'movie.title', 'movie.release_year', 'movie.title_aka', 'movie.budget']), 'producer': (<faiss.swigfaiss_avx2.IndexFlatL2; proxy of <Swig Object of type 'faiss::IndexFlatL2 *' at 0x7c41b7b64870> >, ['producer.pid', 'producer.gender', 'producer.name', 'producer.nationality', 'producer.birth_city', 'producer.birth_year']), 'tags': (<faiss.swigfaiss_avx2.IndexFlatL2; proxy of <Swig Object of type 'faiss::IndexFlatL2 *' at 0x7c41b7b64ff0> >, ['tags.id', 'tags.msid', 'tags.kid']), 'tv_series': (<faiss.swigfaiss_avx2.IndexFlatL2; proxy of <Swig Object of type 'faiss::IndexFlatL2 *' at 0x7c41b7b67720> >, ['tv_series.sid', 'tv_series.title', 'tv_series.release_year', 'tv_series.num_of_seasons', 'tv_series.num_of_episodes', 'tv_series.title_aka', 'tv_series.budget']), 'writer': (<faiss.swigfaiss_avx2.IndexFlatL2; proxy of <Swig Object of type 'faiss::IndexFlatL2 *' at 0x7c41b7b647b0> >, ['writer.wid', 'writer.gender', 'writer.name', 'writer.nationality', 'writer.birth_city', 'writer.birth_year']), 'written_by': (<faiss.swigfaiss_avx2.IndexFlatL2; proxy of <Swig Object of type 'faiss::IndexFlatL2 *' at 0x7c41b7b65830> >, ['written_by.id', 'written_by.msid', 'written_by.wid'])}\n"
     ]
    }
   ],
   "source": [
    "print(table_index)\n",
    "print(column_indexes)"
   ]
  },
  {
   "cell_type": "code",
   "execution_count": null,
   "metadata": {
    "colab": {
     "base_uri": "https://localhost:8080/"
    },
    "executionInfo": {
     "elapsed": 10,
     "status": "ok",
     "timestamp": 1737202481820,
     "user": {
      "displayName": "PETKAR ANURAG KISHOR",
      "userId": "09737349906315307369"
     },
     "user_tz": -330
    },
    "id": "b_O8PDWP5eAf",
    "outputId": "28531586-a3ff-4d6d-d451-124de1a00f9d"
   },
   "outputs": [
    {
     "name": "stdout",
     "output_type": "stream",
     "text": [
      "Relevant Tables: ['writer', 'producer', 'movie']\n",
      "Relevant Columns: ['writer.birth_year', 'writer.birth_city', 'writer.nationality', 'writer.gender', 'writer.name', 'producer.birth_city', 'producer.gender', 'producer.birth_year', 'producer.name', 'producer.nationality', 'movie.title', 'movie.release_year', 'movie.mid', 'movie.title_aka', 'movie.budget']\n"
     ]
    }
   ],
   "source": [
    "\n",
    "\n",
    "# Example query\n",
    "query = \"Find all movies written and produced by 'Woody Allen'\"\n",
    "\n",
    "# Step 4: Retrieve relevant tables and columns for the query\n",
    "relevant_tables, relevant_columns = retrieve_relevant_data(query, table_index, column_indexes, metadata)\n",
    "\n",
    "# Output\n",
    "print(\"Relevant Tables:\", relevant_tables)\n",
    "print(\"Relevant Columns:\", relevant_columns)"
   ]
  },
  {
   "cell_type": "code",
   "execution_count": null,
   "metadata": {
    "colab": {
     "base_uri": "https://localhost:8080/"
    },
    "executionInfo": {
     "elapsed": 3784,
     "status": "ok",
     "timestamp": 1737202536354,
     "user": {
      "displayName": "PETKAR ANURAG KISHOR",
      "userId": "09737349906315307369"
     },
     "user_tz": -330
    },
    "id": "g4LiVVHEVign",
    "outputId": "2a38d16b-f87b-4eca-dabc-08a70353a53d"
   },
   "outputs": [
    {
     "name": "stderr",
     "output_type": "stream",
     "text": [
      "100%|██████████| 21/21 [00:03<00:00,  6.40it/s]"
     ]
    },
    {
     "name": "stdout",
     "output_type": "stream",
     "text": [
      "Average Precision: 0.1429\n",
      "Average Recall: 0.7540\n",
      "Average F1: 0.2335\n"
     ]
    },
    {
     "name": "stderr",
     "output_type": "stream",
     "text": [
      "\n"
     ]
    }
   ],
   "source": [
    "\n",
    "retrieved_data = {\"query\":[],\"retrieved_columns\":[]}\n",
    "\n",
    "queries = evaluation['queries']\n",
    "from tqdm import tqdm\n",
    "for query_data in tqdm(queries):\n",
    "  query = query_data['query']\n",
    "  relevant_tables, relevant_columns = retrieve_relevant_data(query, table_index, column_indexes, metadata)\n",
    "  retrieved_data[\"query\"].append(query)\n",
    "  retrieved_data[\"retrieved_columns\"].append(relevant_columns)\n",
    "\n",
    "\n",
    "get_eval(retrieved_data,evaluation)"
   ]
  },
  {
   "cell_type": "code",
   "execution_count": null,
   "metadata": {
    "id": "0VnTBFEHdqGY"
   },
   "outputs": [],
   "source": []
  },
  {
   "cell_type": "code",
   "execution_count": null,
   "metadata": {
    "colab": {
     "base_uri": "https://localhost:8080/"
    },
    "executionInfo": {
     "elapsed": 4106,
     "status": "ok",
     "timestamp": 1737204300306,
     "user": {
      "displayName": "PETKAR ANURAG KISHOR",
      "userId": "09737349906315307369"
     },
     "user_tz": -330
    },
    "id": "bf_4QOW9cdvW",
    "outputId": "4cffa626-b888-486e-c952-6604fa37a5dc"
   },
   "outputs": [
    {
     "name": "stdout",
     "output_type": "stream",
     "text": [
      "Collecting rank_bm25\n",
      "  Downloading rank_bm25-0.2.2-py3-none-any.whl.metadata (3.2 kB)\n",
      "Requirement already satisfied: numpy in /usr/local/lib/python3.11/dist-packages (from rank_bm25) (1.26.4)\n",
      "Downloading rank_bm25-0.2.2-py3-none-any.whl (8.6 kB)\n",
      "Installing collected packages: rank_bm25\n",
      "Successfully installed rank_bm25-0.2.2\n"
     ]
    }
   ],
   "source": [
    "!pip install rank_bm25  # Install the missing 'rank_bm25' package"
   ]
  },
  {
   "cell_type": "code",
   "execution_count": null,
   "metadata": {
    "colab": {
     "base_uri": "https://localhost:8080/"
    },
    "executionInfo": {
     "elapsed": 16155,
     "status": "ok",
     "timestamp": 1737204810479,
     "user": {
      "displayName": "PETKAR ANURAG KISHOR",
      "userId": "09737349906315307369"
     },
     "user_tz": -330
    },
    "id": "uQGBV1Ohbxop",
    "outputId": "f010e79b-e8b2-4c9d-f285-e9262eb86b16"
   },
   "outputs": [
    {
     "name": "stdout",
     "output_type": "stream",
     "text": [
      "Relevant Tables: ['movie', 'tags', 'writer']\n",
      "Relevant Columns: ['movie.title', 'movie.release_year', 'movie.budget', 'movie.title_aka', 'movie.mid', 'tags.msid', 'tags.kid', 'tags.id', 'tags.kid', 'writer.birth_year', 'writer.birth_city', 'writer.nationality', 'writer.name', 'writer.gender']\n"
     ]
    }
   ],
   "source": [
    "import faiss\n",
    "import numpy as np\n",
    "from sentence_transformers import SentenceTransformer\n",
    "from rank_bm25 import BM25Okapi\n",
    "import json\n",
    "from sklearn.preprocessing import MinMaxScaler\n",
    "\n",
    "\n",
    "\n",
    "\n",
    "\n",
    "def index_data(metadata):\n",
    "    table_descriptions = [table['description'] for table in metadata['table_descriptions']]\n",
    "    column_refs = {}\n",
    "    column_indices = {}\n",
    "\n",
    "    for table in metadata['table_descriptions']:\n",
    "        column_refs[table['table_name']] = []\n",
    "        column_descriptions = []\n",
    "        for column in table['columns']:\n",
    "            column_refs[table['table_name']].append(column['name'])\n",
    "            column_descriptions.append(column['description'])\n",
    "\n",
    "        # Create FAISS index for columns\n",
    "        column_embeddings = create_embeddings(column_descriptions)\n",
    "        column_index = faiss.IndexFlatL2(column_embeddings[0].shape[0])\n",
    "        column_index.add(np.array(column_embeddings).astype('float32'))\n",
    "        column_indices[table['table_name']] = column_index\n",
    "\n",
    "    # Vector-based embeddings for tables\n",
    "    table_embeddings = create_embeddings(table_descriptions)\n",
    "\n",
    "    # FAISS index for tables\n",
    "    table_index = faiss.IndexFlatL2(table_embeddings[0].shape[0])\n",
    "    table_index.add(np.array(table_embeddings).astype('float32'))\n",
    "\n",
    "    # BM25 indices for tables\n",
    "    table_bm25 = BM25Okapi([desc.split() for desc in table_descriptions])\n",
    "\n",
    "    return table_index, table_bm25, column_indices, column_refs, table_embeddings\n",
    "\n",
    "# RRF combination function\n",
    "def rrf_combine(rankings, k=60):\n",
    "    scores = {}\n",
    "    for system_rankings in rankings:\n",
    "        for rank, item in enumerate(system_rankings):\n",
    "            scores[item] = scores.get(item, 0) + 1 / (k + rank + 1)\n",
    "    return sorted(scores.items(), key=lambda x: x[1], reverse=True)\n",
    "\n",
    "# Step 2: Perform hybrid retrieval\n",
    "def hybrid_search(query, embeddings, bm25_index, faiss_index, top_k=3):\n",
    "    # Vector-based search\n",
    "    query_embedding = create_embeddings([query])\n",
    "    if faiss_index:\n",
    "        distances, indices = faiss_index.search(np.array(query_embedding).astype('float32'), k=top_k)\n",
    "        faiss_ranking = indices[0].tolist()\n",
    "    else:\n",
    "        faiss_ranking = []\n",
    "\n",
    "    # BM25 lexical search\n",
    "    bm25_scores = bm25_index.get_scores(query.split())\n",
    "    bm25_ranking = np.argsort(bm25_scores)[::-1][:top_k].tolist()\n",
    "\n",
    "    # Combine rankings using RRF\n",
    "    combined_ranking = rrf_combine([bm25_ranking, faiss_ranking])\n",
    "\n",
    "    return [item[0] for item in combined_ranking[:top_k]]\n",
    "\n",
    "# Step 3: Retrieve relevant data\n",
    "def retrieve_relevant_data(query, table_index, table_bm25, column_indices, column_refs, metadata):\n",
    "    # Retrieve relevant tables\n",
    "    table_indices = hybrid_search(query, None, table_bm25, table_index)\n",
    "    relevant_tables = [metadata['table_descriptions'][i]['table_name'] for i in table_indices]\n",
    "\n",
    "    # Retrieve relevant columns\n",
    "    relevant_columns = []\n",
    "    for table in relevant_tables:\n",
    "        bm25 = BM25Okapi([col.split() for col in column_refs[table]])\n",
    "        faiss_index = column_indices[table]\n",
    "        column_ranking = hybrid_search(query, None, bm25, faiss_index, top_k=5)\n",
    "        relevant_columns.extend([column_refs[table][idx] for idx in column_ranking])\n",
    "\n",
    "    return relevant_tables, relevant_columns\n",
    "\n",
    "# Index data\n",
    "table_index, table_bm25, column_bm25, column_refs, table_embeddings = index_data(metadata)\n",
    "\n",
    "# Example query\n",
    "query = \"Find all movies written and produced by 'Woody Allen'\"\n",
    "\n",
    "# Retrieve relevant tables and columns for the query\n",
    "relevant_tables, relevant_columns = retrieve_relevant_data(query, table_index, table_bm25, column_bm25, column_refs, metadata)\n",
    "\n",
    "# Output results\n",
    "print(\"Relevant Tables:\", relevant_tables)\n",
    "print(\"Relevant Columns:\", relevant_columns)\n"
   ]
  },
  {
   "cell_type": "code",
   "execution_count": null,
   "metadata": {
    "colab": {
     "base_uri": "https://localhost:8080/"
    },
    "executionInfo": {
     "elapsed": 12658,
     "status": "ok",
     "timestamp": 1737204833507,
     "user": {
      "displayName": "PETKAR ANURAG KISHOR",
      "userId": "09737349906315307369"
     },
     "user_tz": -330
    },
    "id": "46_Q2AajdrNb",
    "outputId": "c006feb3-2bb4-47a0-fbea-f7f105a9eb34"
   },
   "outputs": [
    {
     "name": "stderr",
     "output_type": "stream",
     "text": [
      "100%|██████████| 21/21 [00:11<00:00,  1.78it/s]"
     ]
    },
    {
     "name": "stdout",
     "output_type": "stream",
     "text": [
      "Average Precision: 0.1414\n",
      "Average Recall: 0.6746\n",
      "Average F1: 0.2260\n"
     ]
    },
    {
     "name": "stderr",
     "output_type": "stream",
     "text": [
      "\n"
     ]
    }
   ],
   "source": [
    "retrieved_data = {\"query\":[],\"retrieved_columns\":[]}\n",
    "\n",
    "queries = evaluation['queries']\n",
    "from tqdm import tqdm\n",
    "for query_data in tqdm(queries):\n",
    "  query = query_data['query']\n",
    "  relevant_tables, relevant_columns = retrieve_relevant_data(query, table_index, table_bm25, column_bm25, column_refs, metadata)\n",
    "  retrieved_data[\"query\"].append(query)\n",
    "  retrieved_data[\"retrieved_columns\"].append(relevant_columns)\n",
    "\n",
    "\n",
    "get_eval(retrieved_data,evaluation)"
   ]
  },
  {
   "cell_type": "code",
   "execution_count": null,
   "metadata": {
    "id": "r-wiOBXCcb_c"
   },
   "outputs": [],
   "source": [
    "suggest_viz = '''\n",
    "user_query : {user_query}\n",
    "dataframe: {dataframe}\n",
    "\n",
    "Visualisation Options: ['time series', 'bar plot', 'map', 'scatter_plot', 'piechart', 'None'].List of Visualization options.\n",
    "\n",
    "Goal: Suggest suitable visualization(s) type from the following options to effectively represent the data for the given user question and the generated dataframe.\n",
    "\n",
    "Guidelines:\n",
    "\n",
    "Your recommendation should be based on only the given options.\n",
    "\n",
    "If there is no suitable visualization return empty list.\n",
    "\n",
    "The output should be formatted as a JSON instance that conforms to the 350N schema below.\n",
    "\n",
    "As an example, for the valid  schema (\"properties\": {\"foo\": (\"title\": \"foo\", \"description\": \"a list of strings\", \"type\": \"array\", \"items\": (\"type\": \"string\"))}, \"required\": [\"foo\"]} the object [\"foo\": [\"bar\", \"baz\"]) is a well-formatted instance of the schema.\n",
    "The object (\"properties\": (\"foo\": [\"bar\", \"baz\"]}) is not well-formatted.\n",
    "\n",
    "Here is the output schema:\n",
    "\n",
    "(\"properties\": {\"visualization type\": (\"description\": \"Suggested visualization type(s) for the given user question and the generated dataframe\", \"items\": [\"type\": \"string\"), \"title\": \"Visualization Type\", \"type\": \"array\"}}, \"required\": [\"visualization_type]}'''"
   ]
  },
  {
   "cell_type": "code",
   "execution_count": null,
   "metadata": {},
   "outputs": [],
   "source": [
    "suggest_viz.format(user_query=query,dataframe=metadata)"
   ]
  }
 ],
 "metadata": {
  "colab": {
   "authorship_tag": "ABX9TyNi/jbPVjAbZ1cqquE7oRfR",
   "mount_file_id": "1tPY0eyZRfynyQ3t42opo5n0j-pHHyxYX",
   "provenance": [],
   "toc_visible": true
  },
  "kernelspec": {
   "display_name": "Python 3",
   "name": "python3"
  },
  "language_info": {
   "name": "python"
  }
 },
 "nbformat": 4,
 "nbformat_minor": 0
}
